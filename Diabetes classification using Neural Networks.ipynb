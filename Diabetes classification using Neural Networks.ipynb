{
 "cells": [
  {
   "cell_type": "code",
   "execution_count": 40,
   "id": "46eb5e37",
   "metadata": {},
   "outputs": [],
   "source": [
    "import pandas as pd\n",
    "import numpy as np\n",
    "from sklearn.model_selection import train_test_split\n",
    "from matplotlib import pyplot as plt\n",
    "from tensorflow.python.keras.models import Sequential\n",
    "from tensorflow.python.keras.layers import Dense"
   ]
  },
  {
   "cell_type": "markdown",
   "id": "526360f0",
   "metadata": {},
   "source": [
    "### keras documentation: https://keras.io"
   ]
  },
  {
   "cell_type": "markdown",
   "id": "5cdef666",
   "metadata": {},
   "source": [
    "## Loading Diabetes Dataset"
   ]
  },
  {
   "cell_type": "code",
   "execution_count": 41,
   "id": "b00e4d02",
   "metadata": {},
   "outputs": [],
   "source": [
    "# Loda the dataset for\n",
    "data = pd.read_csv('diabetes.csv')"
   ]
  },
  {
   "cell_type": "code",
   "execution_count": 42,
   "id": "cc801b42",
   "metadata": {},
   "outputs": [
    {
     "data": {
      "text/html": [
       "<div>\n",
       "<style scoped>\n",
       "    .dataframe tbody tr th:only-of-type {\n",
       "        vertical-align: middle;\n",
       "    }\n",
       "\n",
       "    .dataframe tbody tr th {\n",
       "        vertical-align: top;\n",
       "    }\n",
       "\n",
       "    .dataframe thead th {\n",
       "        text-align: right;\n",
       "    }\n",
       "</style>\n",
       "<table border=\"1\" class=\"dataframe\">\n",
       "  <thead>\n",
       "    <tr style=\"text-align: right;\">\n",
       "      <th></th>\n",
       "      <th>Pregnancies</th>\n",
       "      <th>Glucose</th>\n",
       "      <th>BloodPressure</th>\n",
       "      <th>SkinThickness</th>\n",
       "      <th>Insulin</th>\n",
       "      <th>BMI</th>\n",
       "      <th>DiabetesPedigreeFunction</th>\n",
       "      <th>Age</th>\n",
       "      <th>Outcome</th>\n",
       "    </tr>\n",
       "  </thead>\n",
       "  <tbody>\n",
       "    <tr>\n",
       "      <th>0</th>\n",
       "      <td>6</td>\n",
       "      <td>148</td>\n",
       "      <td>72</td>\n",
       "      <td>35</td>\n",
       "      <td>0</td>\n",
       "      <td>33.6</td>\n",
       "      <td>0.627</td>\n",
       "      <td>50</td>\n",
       "      <td>1</td>\n",
       "    </tr>\n",
       "    <tr>\n",
       "      <th>1</th>\n",
       "      <td>1</td>\n",
       "      <td>85</td>\n",
       "      <td>66</td>\n",
       "      <td>29</td>\n",
       "      <td>0</td>\n",
       "      <td>26.6</td>\n",
       "      <td>0.351</td>\n",
       "      <td>31</td>\n",
       "      <td>0</td>\n",
       "    </tr>\n",
       "    <tr>\n",
       "      <th>2</th>\n",
       "      <td>8</td>\n",
       "      <td>183</td>\n",
       "      <td>64</td>\n",
       "      <td>0</td>\n",
       "      <td>0</td>\n",
       "      <td>23.3</td>\n",
       "      <td>0.672</td>\n",
       "      <td>32</td>\n",
       "      <td>1</td>\n",
       "    </tr>\n",
       "    <tr>\n",
       "      <th>3</th>\n",
       "      <td>1</td>\n",
       "      <td>89</td>\n",
       "      <td>66</td>\n",
       "      <td>23</td>\n",
       "      <td>94</td>\n",
       "      <td>28.1</td>\n",
       "      <td>0.167</td>\n",
       "      <td>21</td>\n",
       "      <td>0</td>\n",
       "    </tr>\n",
       "    <tr>\n",
       "      <th>4</th>\n",
       "      <td>0</td>\n",
       "      <td>137</td>\n",
       "      <td>40</td>\n",
       "      <td>35</td>\n",
       "      <td>168</td>\n",
       "      <td>43.1</td>\n",
       "      <td>2.288</td>\n",
       "      <td>33</td>\n",
       "      <td>1</td>\n",
       "    </tr>\n",
       "  </tbody>\n",
       "</table>\n",
       "</div>"
      ],
      "text/plain": [
       "   Pregnancies  Glucose  BloodPressure  SkinThickness  Insulin   BMI   \n",
       "0            6      148             72             35        0  33.6  \\\n",
       "1            1       85             66             29        0  26.6   \n",
       "2            8      183             64              0        0  23.3   \n",
       "3            1       89             66             23       94  28.1   \n",
       "4            0      137             40             35      168  43.1   \n",
       "\n",
       "   DiabetesPedigreeFunction  Age  Outcome  \n",
       "0                     0.627   50        1  \n",
       "1                     0.351   31        0  \n",
       "2                     0.672   32        1  \n",
       "3                     0.167   21        0  \n",
       "4                     2.288   33        1  "
      ]
     },
     "execution_count": 42,
     "metadata": {},
     "output_type": "execute_result"
    }
   ],
   "source": [
    "# Viewing data\n",
    "data.head()"
   ]
  },
  {
   "cell_type": "markdown",
   "id": "44eed242",
   "metadata": {},
   "source": [
    "### Goal: to predict based on diagnostic measurements whether a patient has diabetes"
   ]
  },
  {
   "cell_type": "code",
   "execution_count": 43,
   "id": "8b07ff2d",
   "metadata": {},
   "outputs": [
    {
     "data": {
      "text/plain": [
       "<Axes: xlabel='Outcome'>"
      ]
     },
     "execution_count": 43,
     "metadata": {},
     "output_type": "execute_result"
    },
    {
     "data": {
      "image/png": "[encoded data removed]",
      "text/plain": [
       "<Figure size 640x480 with 1 Axes>"
      ]
     },
     "metadata": {},
     "output_type": "display_data"
    }
   ],
   "source": [
    "import seaborn as sns\n",
    "data['Outcome'].value_counts().plot(kind = 'bar')"
   ]
  },
  {
   "cell_type": "markdown",
   "id": "95f3db63",
   "metadata": {},
   "source": [
    "### Preparing Data for modeling"
   ]
  },
  {
   "cell_type": "code",
   "execution_count": 44,
   "id": "216cc214",
   "metadata": {},
   "outputs": [],
   "source": [
    "# split into input (X) and output (y) variables\n",
    "predictors = data.iloc[:,0:8]\n",
    "response = data.iloc[:,8]"
   ]
  },
  {
   "cell_type": "code",
   "execution_count": 45,
   "id": "55b043d9",
   "metadata": {},
   "outputs": [
    {
     "name": "stdout",
     "output_type": "stream",
     "text": [
      "(614, 8) (614,)\n",
      "(154, 8) (154,)\n"
     ]
    }
   ],
   "source": [
    "# create training and testing vars\n",
    "X_train, X_test, y_train, y_test = train_test_split(predictors, response, test_size=0.2)\n",
    "print(X_train.shape, y_train.shape)\n",
    "print(X_test.shape, y_test.shape)"
   ]
  },
  {
   "cell_type": "markdown",
   "id": "25b1f7d4",
   "metadata": {},
   "source": [
    "### Training Neural Network model\n",
    "\n",
    "- **There are Two ways to build Keras model:**\n",
    "    - **Sequential**\n",
    "        - **Sequential API allows you to create models layer-by-layer**\n",
    "    - **Functional**\n"
   ]
  },
  {
   "cell_type": "code",
   "execution_count": 46,
   "id": "965e1ccd",
   "metadata": {},
   "outputs": [],
   "source": [
    "# define the keras model - layer by layer\n",
    "kerasmodel = Sequential() # initializing model - Dense for fully connected layer\n",
    "kerasmodel.add(Dense(12, input_dim=8, activation='relu')) # First Hidden layer\n",
    "kerasmodel.add(Dense(8, activation='relu')) # Relu to avoid vanishing/exploding gradient problem - #\n",
    "kerasmodel.add(Dense(1, activation='sigmoid')) # since output is binary so \"sigmoid\" - # Outputlayer\n",
    "\n",
    "# Weight and bias initialization are done by keras default methods using \"'glorot_uniform'\""
   ]
  },
  {
   "cell_type": "code",
   "execution_count": 47,
   "id": "3f3a46dc",
   "metadata": {},
   "outputs": [],
   "source": [
    "# compiling model\n",
    "kerasmodel.compile(loss='binary_crossentropy', optimizer='adam', metrics=['accuracy'])"
   ]
  },
  {
   "cell_type": "code",
   "execution_count": 48,
   "id": "f9f01214",
   "metadata": {},
   "outputs": [
    {
     "name": "stdout",
     "output_type": "stream",
     "text": [
      "Epoch 1/150\n",
      "62/62 [==============================] - 0s 464us/step - loss: 6.7235 - accuracy: 0.6580\n",
      "Epoch 2/150\n",
      "62/62 [==============================] - 0s 454us/step - loss: 1.5601 - accuracy: 0.6629\n",
      "Epoch 3/150\n",
      "62/62 [==============================] - 0s 552us/step - loss: 0.9368 - accuracy: 0.6466\n",
      "Epoch 4/150\n",
      "62/62 [==============================] - 0s 394us/step - loss: 0.7675 - accuracy: 0.6547\n",
      "Epoch 5/150\n",
      "62/62 [==============================] - 0s 399us/step - loss: 0.7243 - accuracy: 0.6580\n",
      "Epoch 6/150\n",
      "62/62 [==============================] - 0s 428us/step - loss: 0.7031 - accuracy: 0.6580\n",
      "Epoch 7/150\n",
      "62/62 [==============================] - 0s 408us/step - loss: 0.6670 - accuracy: 0.6694\n",
      "Epoch 8/150\n",
      "62/62 [==============================] - 0s 410us/step - loss: 0.6841 - accuracy: 0.6678\n",
      "Epoch 9/150\n",
      "62/62 [==============================] - 0s 419us/step - loss: 0.6781 - accuracy: 0.6498\n",
      "Epoch 10/150\n",
      "62/62 [==============================] - 0s 429us/step - loss: 0.6457 - accuracy: 0.6596\n",
      "Epoch 11/150\n",
      "62/62 [==============================] - 0s 413us/step - loss: 0.6330 - accuracy: 0.6694\n",
      "Epoch 12/150\n",
      "62/62 [==============================] - 0s 443us/step - loss: 0.6294 - accuracy: 0.6678\n",
      "Epoch 13/150\n",
      "62/62 [==============================] - 0s 425us/step - loss: 0.6270 - accuracy: 0.6726\n",
      "Epoch 14/150\n",
      "62/62 [==============================] - 0s 432us/step - loss: 0.6271 - accuracy: 0.6547\n",
      "Epoch 15/150\n",
      "62/62 [==============================] - 0s 409us/step - loss: 0.5993 - accuracy: 0.6726\n",
      "Epoch 16/150\n",
      "62/62 [==============================] - 0s 412us/step - loss: 0.5971 - accuracy: 0.6743\n",
      "Epoch 17/150\n",
      "62/62 [==============================] - 0s 439us/step - loss: 0.5916 - accuracy: 0.6840\n",
      "Epoch 18/150\n",
      "62/62 [==============================] - 0s 460us/step - loss: 0.5860 - accuracy: 0.6922\n",
      "Epoch 19/150\n",
      "62/62 [==============================] - 0s 414us/step - loss: 0.6096 - accuracy: 0.6808\n",
      "Epoch 20/150\n",
      "62/62 [==============================] - 0s 445us/step - loss: 0.5883 - accuracy: 0.6792\n",
      "Epoch 21/150\n",
      "62/62 [==============================] - 0s 432us/step - loss: 0.5890 - accuracy: 0.6987\n",
      "Epoch 22/150\n",
      "62/62 [==============================] - 0s 433us/step - loss: 0.5811 - accuracy: 0.6824\n",
      "Epoch 23/150\n",
      "62/62 [==============================] - 0s 408us/step - loss: 0.5747 - accuracy: 0.6824\n",
      "Epoch 24/150\n",
      "62/62 [==============================] - 0s 422us/step - loss: 0.5550 - accuracy: 0.7036\n",
      "Epoch 25/150\n",
      "62/62 [==============================] - 0s 419us/step - loss: 0.5582 - accuracy: 0.7020\n",
      "Epoch 26/150\n",
      "62/62 [==============================] - 0s 420us/step - loss: 0.5583 - accuracy: 0.6938\n",
      "Epoch 27/150\n",
      "62/62 [==============================] - 0s 419us/step - loss: 0.5444 - accuracy: 0.7085\n",
      "Epoch 28/150\n",
      "62/62 [==============================] - 0s 428us/step - loss: 0.5543 - accuracy: 0.7068\n",
      "Epoch 29/150\n",
      "62/62 [==============================] - 0s 439us/step - loss: 0.5528 - accuracy: 0.6987\n",
      "Epoch 30/150\n",
      "62/62 [==============================] - 0s 419us/step - loss: 0.5720 - accuracy: 0.6889\n",
      "Epoch 31/150\n",
      "62/62 [==============================] - 0s 400us/step - loss: 0.5508 - accuracy: 0.6987\n",
      "Epoch 32/150\n",
      "62/62 [==============================] - 0s 433us/step - loss: 0.5494 - accuracy: 0.7101\n",
      "Epoch 33/150\n",
      "62/62 [==============================] - 0s 430us/step - loss: 0.5567 - accuracy: 0.6954\n",
      "Epoch 34/150\n",
      "62/62 [==============================] - 0s 380us/step - loss: 0.5511 - accuracy: 0.7052\n",
      "Epoch 35/150\n",
      "62/62 [==============================] - 0s 451us/step - loss: 0.5513 - accuracy: 0.7052\n",
      "Epoch 36/150\n",
      "62/62 [==============================] - 0s 450us/step - loss: 0.5494 - accuracy: 0.7003\n",
      "Epoch 37/150\n",
      "62/62 [==============================] - 0s 432us/step - loss: 0.5373 - accuracy: 0.7117\n",
      "Epoch 38/150\n",
      "62/62 [==============================] - 0s 424us/step - loss: 0.5316 - accuracy: 0.7248\n",
      "Epoch 39/150\n",
      "62/62 [==============================] - 0s 419us/step - loss: 0.5391 - accuracy: 0.7150\n",
      "Epoch 40/150\n",
      "62/62 [==============================] - 0s 421us/step - loss: 0.5441 - accuracy: 0.7199\n",
      "Epoch 41/150\n",
      "62/62 [==============================] - 0s 423us/step - loss: 0.5364 - accuracy: 0.7166\n",
      "Epoch 42/150\n",
      "62/62 [==============================] - 0s 426us/step - loss: 0.5335 - accuracy: 0.7117\n",
      "Epoch 43/150\n",
      "62/62 [==============================] - 0s 422us/step - loss: 0.5281 - accuracy: 0.7199\n",
      "Epoch 44/150\n",
      "62/62 [==============================] - 0s 428us/step - loss: 0.5335 - accuracy: 0.7068\n",
      "Epoch 45/150\n",
      "62/62 [==============================] - 0s 409us/step - loss: 0.5398 - accuracy: 0.7085\n",
      "Epoch 46/150\n",
      "62/62 [==============================] - 0s 412us/step - loss: 0.5397 - accuracy: 0.7166\n",
      "Epoch 47/150\n",
      "62/62 [==============================] - 0s 400us/step - loss: 0.5324 - accuracy: 0.7166\n",
      "Epoch 48/150\n",
      "62/62 [==============================] - 0s 414us/step - loss: 0.5274 - accuracy: 0.7199\n",
      "Epoch 49/150\n",
      "62/62 [==============================] - 0s 409us/step - loss: 0.5560 - accuracy: 0.7085\n",
      "Epoch 50/150\n",
      "62/62 [==============================] - 0s 456us/step - loss: 0.5333 - accuracy: 0.7085\n",
      "Epoch 51/150\n",
      "62/62 [==============================] - 0s 439us/step - loss: 0.5199 - accuracy: 0.7231\n",
      "Epoch 52/150\n",
      "62/62 [==============================] - 0s 416us/step - loss: 0.5493 - accuracy: 0.7248\n",
      "Epoch 53/150\n",
      "62/62 [==============================] - 0s 423us/step - loss: 0.5458 - accuracy: 0.7199\n",
      "Epoch 54/150\n",
      "62/62 [==============================] - 0s 420us/step - loss: 0.5344 - accuracy: 0.7264\n",
      "Epoch 55/150\n",
      "62/62 [==============================] - 0s 410us/step - loss: 0.5336 - accuracy: 0.7215\n",
      "Epoch 56/150\n",
      "62/62 [==============================] - 0s 408us/step - loss: 0.5315 - accuracy: 0.7150\n",
      "Epoch 57/150\n",
      "62/62 [==============================] - 0s 409us/step - loss: 0.5290 - accuracy: 0.7313\n",
      "Epoch 58/150\n",
      "62/62 [==============================] - 0s 410us/step - loss: 0.5220 - accuracy: 0.7394\n",
      "Epoch 59/150\n",
      "62/62 [==============================] - 0s 418us/step - loss: 0.5315 - accuracy: 0.7329\n",
      "Epoch 60/150\n",
      "62/62 [==============================] - 0s 431us/step - loss: 0.5163 - accuracy: 0.7313\n",
      "Epoch 61/150\n",
      "62/62 [==============================] - 0s 417us/step - loss: 0.5199 - accuracy: 0.7492\n",
      "Epoch 62/150\n",
      "62/62 [==============================] - 0s 416us/step - loss: 0.5182 - accuracy: 0.7410\n",
      "Epoch 63/150\n",
      "62/62 [==============================] - 0s 408us/step - loss: 0.5214 - accuracy: 0.7345\n",
      "Epoch 64/150\n",
      "62/62 [==============================] - 0s 427us/step - loss: 0.5239 - accuracy: 0.7280\n",
      "Epoch 65/150\n",
      "62/62 [==============================] - 0s 429us/step - loss: 0.5205 - accuracy: 0.7378\n",
      "Epoch 66/150\n",
      "62/62 [==============================] - 0s 401us/step - loss: 0.5135 - accuracy: 0.7410\n",
      "Epoch 67/150\n",
      "62/62 [==============================] - 0s 409us/step - loss: 0.5279 - accuracy: 0.7264\n",
      "Epoch 68/150\n",
      "62/62 [==============================] - 0s 411us/step - loss: 0.5199 - accuracy: 0.7248\n",
      "Epoch 69/150\n",
      "62/62 [==============================] - 0s 403us/step - loss: 0.5207 - accuracy: 0.7280\n",
      "Epoch 70/150\n",
      "62/62 [==============================] - 0s 427us/step - loss: 0.5081 - accuracy: 0.7378\n",
      "Epoch 71/150\n",
      "62/62 [==============================] - 0s 434us/step - loss: 0.5256 - accuracy: 0.7264\n",
      "Epoch 72/150\n",
      "62/62 [==============================] - 0s 427us/step - loss: 0.5184 - accuracy: 0.7182\n",
      "Epoch 73/150\n",
      "62/62 [==============================] - 0s 409us/step - loss: 0.5067 - accuracy: 0.7394\n",
      "Epoch 74/150\n",
      "62/62 [==============================] - 0s 404us/step - loss: 0.5114 - accuracy: 0.7378\n",
      "Epoch 75/150\n",
      "62/62 [==============================] - 0s 423us/step - loss: 0.5182 - accuracy: 0.7264\n",
      "Epoch 76/150\n",
      "62/62 [==============================] - 0s 413us/step - loss: 0.5212 - accuracy: 0.7476\n",
      "Epoch 77/150\n",
      "62/62 [==============================] - 0s 413us/step - loss: 0.5097 - accuracy: 0.7492\n",
      "Epoch 78/150\n",
      "62/62 [==============================] - 0s 405us/step - loss: 0.5048 - accuracy: 0.7459\n",
      "Epoch 79/150\n",
      "62/62 [==============================] - 0s 417us/step - loss: 0.5147 - accuracy: 0.7362\n",
      "Epoch 80/150\n",
      "62/62 [==============================] - 0s 408us/step - loss: 0.5050 - accuracy: 0.7606\n",
      "Epoch 81/150\n"
     ]
    },
    {
     "name": "stdout",
     "output_type": "stream",
     "text": [
      "62/62 [==============================] - 0s 409us/step - loss: 0.5017 - accuracy: 0.7508\n",
      "Epoch 82/150\n",
      "62/62 [==============================] - 0s 416us/step - loss: 0.5187 - accuracy: 0.7362\n",
      "Epoch 83/150\n",
      "62/62 [==============================] - 0s 419us/step - loss: 0.5013 - accuracy: 0.7394\n",
      "Epoch 84/150\n",
      "62/62 [==============================] - 0s 408us/step - loss: 0.5067 - accuracy: 0.7557\n",
      "Epoch 85/150\n",
      "62/62 [==============================] - 0s 404us/step - loss: 0.5020 - accuracy: 0.7573\n",
      "Epoch 86/150\n",
      "62/62 [==============================] - 0s 445us/step - loss: 0.5036 - accuracy: 0.7573\n",
      "Epoch 87/150\n",
      "62/62 [==============================] - 0s 421us/step - loss: 0.5012 - accuracy: 0.7557\n",
      "Epoch 88/150\n",
      "62/62 [==============================] - 0s 431us/step - loss: 0.5113 - accuracy: 0.7459\n",
      "Epoch 89/150\n",
      "62/62 [==============================] - 0s 406us/step - loss: 0.5004 - accuracy: 0.7508\n",
      "Epoch 90/150\n",
      "62/62 [==============================] - 0s 442us/step - loss: 0.5010 - accuracy: 0.7492\n",
      "Epoch 91/150\n",
      "62/62 [==============================] - 0s 417us/step - loss: 0.5069 - accuracy: 0.7557\n",
      "Epoch 92/150\n",
      "62/62 [==============================] - 0s 424us/step - loss: 0.5109 - accuracy: 0.7362\n",
      "Epoch 93/150\n",
      "62/62 [==============================] - 0s 437us/step - loss: 0.5043 - accuracy: 0.7264\n",
      "Epoch 94/150\n",
      "62/62 [==============================] - 0s 436us/step - loss: 0.5075 - accuracy: 0.7459\n",
      "Epoch 95/150\n",
      "62/62 [==============================] - 0s 440us/step - loss: 0.5052 - accuracy: 0.7313\n",
      "Epoch 96/150\n",
      "62/62 [==============================] - 0s 445us/step - loss: 0.5010 - accuracy: 0.7427\n",
      "Epoch 97/150\n",
      "62/62 [==============================] - 0s 430us/step - loss: 0.5124 - accuracy: 0.7476\n",
      "Epoch 98/150\n",
      "62/62 [==============================] - 0s 444us/step - loss: 0.5082 - accuracy: 0.7508\n",
      "Epoch 99/150\n",
      "62/62 [==============================] - 0s 416us/step - loss: 0.4948 - accuracy: 0.7443\n",
      "Epoch 100/150\n",
      "62/62 [==============================] - 0s 409us/step - loss: 0.5140 - accuracy: 0.7378\n",
      "Epoch 101/150\n",
      "62/62 [==============================] - 0s 421us/step - loss: 0.5060 - accuracy: 0.7443\n",
      "Epoch 102/150\n",
      "62/62 [==============================] - 0s 443us/step - loss: 0.4995 - accuracy: 0.7524\n",
      "Epoch 103/150\n",
      "62/62 [==============================] - 0s 433us/step - loss: 0.5102 - accuracy: 0.7492\n",
      "Epoch 104/150\n",
      "62/62 [==============================] - 0s 419us/step - loss: 0.4981 - accuracy: 0.7443\n",
      "Epoch 105/150\n",
      "62/62 [==============================] - 0s 421us/step - loss: 0.5009 - accuracy: 0.7524\n",
      "Epoch 106/150\n",
      "62/62 [==============================] - 0s 413us/step - loss: 0.4913 - accuracy: 0.7638\n",
      "Epoch 107/150\n",
      "62/62 [==============================] - 0s 418us/step - loss: 0.5024 - accuracy: 0.7638\n",
      "Epoch 108/150\n",
      "62/62 [==============================] - 0s 415us/step - loss: 0.4989 - accuracy: 0.7655\n",
      "Epoch 109/150\n",
      "62/62 [==============================] - 0s 429us/step - loss: 0.4930 - accuracy: 0.7573\n",
      "Epoch 110/150\n",
      "62/62 [==============================] - 0s 427us/step - loss: 0.4926 - accuracy: 0.7410\n",
      "Epoch 111/150\n",
      "62/62 [==============================] - 0s 407us/step - loss: 0.4918 - accuracy: 0.7606\n",
      "Epoch 112/150\n",
      "62/62 [==============================] - 0s 417us/step - loss: 0.5053 - accuracy: 0.7492\n",
      "Epoch 113/150\n",
      "62/62 [==============================] - 0s 411us/step - loss: 0.5046 - accuracy: 0.7573\n",
      "Epoch 114/150\n",
      "62/62 [==============================] - 0s 415us/step - loss: 0.4954 - accuracy: 0.7557\n",
      "Epoch 115/150\n",
      "62/62 [==============================] - 0s 422us/step - loss: 0.4863 - accuracy: 0.7704\n",
      "Epoch 116/150\n",
      "62/62 [==============================] - 0s 407us/step - loss: 0.5216 - accuracy: 0.7443\n",
      "Epoch 117/150\n",
      "62/62 [==============================] - 0s 438us/step - loss: 0.4991 - accuracy: 0.7655\n",
      "Epoch 118/150\n",
      "62/62 [==============================] - 0s 411us/step - loss: 0.4974 - accuracy: 0.7606\n",
      "Epoch 119/150\n",
      "62/62 [==============================] - 0s 423us/step - loss: 0.4952 - accuracy: 0.7687\n",
      "Epoch 120/150\n",
      "62/62 [==============================] - 0s 446us/step - loss: 0.4849 - accuracy: 0.7573\n",
      "Epoch 121/150\n",
      "62/62 [==============================] - 0s 413us/step - loss: 0.4867 - accuracy: 0.7736\n",
      "Epoch 122/150\n",
      "62/62 [==============================] - 0s 422us/step - loss: 0.4859 - accuracy: 0.7590\n",
      "Epoch 123/150\n",
      "62/62 [==============================] - 0s 402us/step - loss: 0.4854 - accuracy: 0.7655\n",
      "Epoch 124/150\n",
      "62/62 [==============================] - 0s 415us/step - loss: 0.4819 - accuracy: 0.7638\n",
      "Epoch 125/150\n",
      "62/62 [==============================] - 0s 411us/step - loss: 0.5123 - accuracy: 0.7427\n",
      "Epoch 126/150\n",
      "62/62 [==============================] - 0s 424us/step - loss: 0.4884 - accuracy: 0.7720\n",
      "Epoch 127/150\n",
      "62/62 [==============================] - 0s 409us/step - loss: 0.5167 - accuracy: 0.7508\n",
      "Epoch 128/150\n",
      "62/62 [==============================] - 0s 400us/step - loss: 0.5252 - accuracy: 0.7248\n",
      "Epoch 129/150\n",
      "62/62 [==============================] - 0s 421us/step - loss: 0.4870 - accuracy: 0.7573\n",
      "Epoch 130/150\n",
      "62/62 [==============================] - 0s 413us/step - loss: 0.4941 - accuracy: 0.7557\n",
      "Epoch 131/150\n",
      "62/62 [==============================] - 0s 418us/step - loss: 0.4926 - accuracy: 0.7638\n",
      "Epoch 132/150\n",
      "62/62 [==============================] - 0s 427us/step - loss: 0.4807 - accuracy: 0.7590\n",
      "Epoch 133/150\n",
      "62/62 [==============================] - 0s 421us/step - loss: 0.4954 - accuracy: 0.7524\n",
      "Epoch 134/150\n",
      "62/62 [==============================] - 0s 437us/step - loss: 0.4936 - accuracy: 0.7606\n",
      "Epoch 135/150\n",
      "62/62 [==============================] - 0s 424us/step - loss: 0.4895 - accuracy: 0.7671\n",
      "Epoch 136/150\n",
      "62/62 [==============================] - 0s 422us/step - loss: 0.4927 - accuracy: 0.7410\n",
      "Epoch 137/150\n",
      "62/62 [==============================] - 0s 426us/step - loss: 0.4925 - accuracy: 0.7508\n",
      "Epoch 138/150\n",
      "62/62 [==============================] - 0s 412us/step - loss: 0.4953 - accuracy: 0.7557\n",
      "Epoch 139/150\n",
      "62/62 [==============================] - 0s 409us/step - loss: 0.4981 - accuracy: 0.7671\n",
      "Epoch 140/150\n",
      "62/62 [==============================] - 0s 404us/step - loss: 0.4855 - accuracy: 0.7622\n",
      "Epoch 141/150\n",
      "62/62 [==============================] - 0s 423us/step - loss: 0.4977 - accuracy: 0.7557\n",
      "Epoch 142/150\n",
      "62/62 [==============================] - 0s 418us/step - loss: 0.4776 - accuracy: 0.7638\n",
      "Epoch 143/150\n",
      "62/62 [==============================] - 0s 441us/step - loss: 0.4937 - accuracy: 0.7573\n",
      "Epoch 144/150\n",
      "62/62 [==============================] - 0s 446us/step - loss: 0.4947 - accuracy: 0.7590\n",
      "Epoch 145/150\n",
      "62/62 [==============================] - 0s 410us/step - loss: 0.4839 - accuracy: 0.7622\n",
      "Epoch 146/150\n",
      "62/62 [==============================] - 0s 432us/step - loss: 0.4871 - accuracy: 0.7655\n",
      "Epoch 147/150\n",
      "62/62 [==============================] - 0s 421us/step - loss: 0.4856 - accuracy: 0.7638\n",
      "Epoch 148/150\n",
      "62/62 [==============================] - 0s 428us/step - loss: 0.4828 - accuracy: 0.7655\n",
      "Epoch 149/150\n",
      "62/62 [==============================] - 0s 446us/step - loss: 0.4836 - accuracy: 0.7671\n",
      "Epoch 150/150\n",
      "62/62 [==============================] - 0s 421us/step - loss: 0.4863 - accuracy: 0.7687\n"
     ]
    },
    {
     "data": {
      "text/plain": [
       "<tensorflow.python.keras.callbacks.History at 0x7f6d7e2f5b10>"
      ]
     },
     "execution_count": 48,
     "metadata": {},
     "output_type": "execute_result"
    }
   ],
   "source": [
    "# fitting model\n",
    "kerasmodel.fit(X_train, y_train, epochs=150, batch_size=10)"
   ]
  },
  {
   "cell_type": "code",
   "execution_count": 49,
   "id": "82ab8b5b",
   "metadata": {},
   "outputs": [
    {
     "name": "stdout",
     "output_type": "stream",
     "text": [
      "20/20 [==============================] - 0s 493us/step - loss: 0.4933 - accuracy: 0.7622\n",
      "Train Accuracy: 76.22\n"
     ]
    }
   ],
   "source": [
    "# Train accuracy\n",
    "_, accuracy = kerasmodel.evaluate(X_train, y_train)\n",
    "print('Train Accuracy: %.2f' %(accuracy*100))"
   ]
  },
  {
   "cell_type": "code",
   "execution_count": 50,
   "id": "f09b0bd4",
   "metadata": {},
   "outputs": [
    {
     "name": "stderr",
     "output_type": "stream",
     "text": [
      "/home/atamuratove/.local/lib/python3.10/site-packages/tensorflow/python/keras/engine/sequential.py:454: UserWarning: `model.predict_classes()` is deprecated and will be removed after 2021-01-01. Please use instead:* `np.argmax(model.predict(x), axis=-1)`,   if your model does multi-class classification   (e.g. if it uses a `softmax` last-layer activation).* `(model.predict(x) > 0.5).astype(\"int32\")`,   if your model does binary classification   (e.g. if it uses a `sigmoid` last-layer activation).\n",
      "  warnings.warn('`model.predict_classes()` is deprecated and '\n"
     ]
    },
    {
     "data": {
      "text/plain": [
       "0.7467532467532467"
      ]
     },
     "execution_count": 50,
     "metadata": {},
     "output_type": "execute_result"
    }
   ],
   "source": [
    "# test accuracy\n",
    "from sklearn.metrics import accuracy_score\n",
    "y_pred = kerasmodel.predict_classes(X_test)\n",
    "\n",
    "accuracy_score(y_test, y_pred)"
   ]
  },
  {
   "cell_type": "code",
   "execution_count": null,
   "id": "5fc3dd15",
   "metadata": {},
   "outputs": [],
   "source": []
  },
  {
   "cell_type": "code",
   "execution_count": null,
   "id": "3560990d",
   "metadata": {},
   "outputs": [],
   "source": []
  },
  {
   "cell_type": "code",
   "execution_count": null,
   "id": "ca524ba6",
   "metadata": {},
   "outputs": [],
   "source": []
  },
  {
   "cell_type": "code",
   "execution_count": null,
   "id": "ec21a32d",
   "metadata": {},
   "outputs": [],
   "source": []
  }
 ],
 "metadata": {
  "kernelspec": {
   "display_name": "Python 3 (ipykernel)",
   "language": "python",
   "name": "python3"
  },
  "language_info": {
   "codemirror_mode": {
    "name": "ipython",
    "version": 3
   },
   "file_extension": ".py",
   "mimetype": "text/x-python",
   "name": "python",
   "nbconvert_exporter": "python",
   "pygments_lexer": "ipython3",
   "version": "3.10.6"
  }
 },
 "nbformat": 4,
 "nbformat_minor": 5
}
